{
 "cells": [
  {
   "cell_type": "code",
   "execution_count": 7,
   "id": "c7f290d9",
   "metadata": {},
   "outputs": [],
   "source": [
    "import pandas as pd\n",
    "import requests\n",
    "from pathlib import Path\n",
    "from pypdf import PdfReader\n",
    "import os\n",
    "from dotenv import load_dotenv"
   ]
  },
  {
   "cell_type": "markdown",
   "id": "539461e4",
   "metadata": {},
   "source": [
    "While I keep the exploration notebooks separate for different parts of my methods, all of the universal functions developed can be found in the functions.py file."
   ]
  },
  {
   "cell_type": "code",
   "execution_count": 8,
   "id": "824e4d8c",
   "metadata": {},
   "outputs": [],
   "source": [
    "load_dotenv()\n",
    "core_api_key = os.getenv(\"core_api_key\", '')\n",
    "headers={\"Authorization\":\"Bearer \" + core_api_key}\n",
    "query = 'wind+speed+(prediction|predict)'\n",
    "url = 'https://api.core.ac.uk/v3/search/works/'\n",
    "r = requests.get(url + '?q=' + query + '&limit=25', headers=headers).json()"
   ]
  },
  {
   "cell_type": "markdown",
   "id": "5894369a",
   "metadata": {},
   "source": [
    "We can get a lot of metadata from each paper, in addition to the full text of the paper:"
   ]
  },
  {
   "cell_type": "code",
   "execution_count": 9,
   "id": "ac28bedc",
   "metadata": {},
   "outputs": [
    {
     "data": {
      "text/plain": [
       "{'acceptedDate': '2014-03-20T00:00:00',\n",
       " 'arxivId': '1305.3696',\n",
       " 'authors': [{'name': \"D'Amico, Guglielmo\"},\n",
       "  {'name': 'Petroni, Filippo'},\n",
       "  {'name': 'Prattico, Flavio'}],\n",
       " 'citationCount': 0,\n",
       " 'contributors': [],\n",
       " 'outputs': ['https://api.core.ac.uk/v3/outputs/297903089',\n",
       "  'https://api.core.ac.uk/v3/outputs/54533522',\n",
       "  'https://api.core.ac.uk/v3/outputs/209880239'],\n",
       " 'createdDate': '2014-10-24T19:18:15',\n",
       " 'dataProviders': [{'id': 144,\n",
       "   'name': '',\n",
       "   'url': 'https://api.core.ac.uk/v3/data-providers/144',\n",
       "   'logo': 'https://api.core.ac.uk/data-providers/144/logo'},\n",
       "  {'id': 4786,\n",
       "   'name': '',\n",
       "   'url': 'https://api.core.ac.uk/v3/data-providers/4786',\n",
       "   'logo': 'https://api.core.ac.uk/data-providers/4786/logo'},\n",
       "  {'id': 8857,\n",
       "   'name': '',\n",
       "   'url': 'https://api.core.ac.uk/v3/data-providers/8857',\n",
       "   'logo': 'https://api.core.ac.uk/data-providers/8857/logo'},\n",
       "  {'id': 1084,\n",
       "   'name': '',\n",
       "   'url': 'https://api.core.ac.uk/v3/data-providers/1084',\n",
       "   'logo': 'https://api.core.ac.uk/data-providers/1084/logo'}],\n",
       " 'depositedDate': '2014-07-01T00:00:00',\n",
       " 'abstract': 'The prediction of wind speed is one of the most important aspects when\\ndealing with renewable energy. In this paper we show a new nonparametric model,\\nbased on semi-Markov chains, to predict wind speed. Particularly we use an\\nindexed semi-Markov model, that reproduces accurately the statistical behavior\\nof wind speed, to forecast wind speed one step ahead for different time scales\\nand for very long time horizon maintaining the goodness of prediction. In order\\nto check the main features of the model we show, as indicator of goodness, the\\nroot mean square error between real data and predicted ones and we compare our\\nforecasting results with those of a persistence model',\n",
       " 'documentType': 'research',\n",
       " 'doi': '10.1016/j.physa.2014.03.034',\n",
       " 'downloadUrl': 'http://arxiv.org/abs/1305.3696',\n",
       " 'fieldOfStudy': None,\n",
       " 'fullText': 'Wind speed forecasting at different time scales: a non\\nparametric approach\\nGuglielmo D’Amico\\nDipartimento di Farmacia, Universita` ‘G. D’Annunzio’ di Chieti-Pescara, 66013 Chieti,\\nItaly\\nFilippo Petroni\\nDipartimento di Scienze Economiche ed Aziendali, Universita` degli studi di Cagliari,\\n09123 Cagliari, Italy\\nFlavio Prattico\\nDipartimento di Ingegneria Industriale e dell’Informazione e di Economia, Universita`\\ndegli studi dell’Aquila, 67100 L’Aquila, Italy\\nAbstract\\nThe prediction of wind speed is one of the most important aspects when\\ndealing with renewable energy. In this paper we show a new nonparametric\\nmodel, based on semi-Markov chains, to predict wind speed. Particularly\\nwe use an indexed semi-Markov model, that reproduces accurately the sta-\\ntistical behavior of wind speed, to forecast wind speed one step ahead for\\ndifferent time scales and for very long time horizon maintaining the good-\\nness of prediction. In order to check the main features of the model we\\nshow, as indicator of goodness, the root mean square error between real data\\nand predicted ones and we compare our forecasting results with those of a\\npersistence model.\\nKeywords: Wind speed; forecasting model; indexed semi-Markov chains;\\n1. Introduction\\nThe variations of wind speed, in a certain site, are strictly related to the\\neconomic aspects of a wind farm, such as maintenance operations, especially\\nPreprint submitted to Renewable Energy May 17, 2013\\nar\\nX\\niv\\n:1\\n30\\n5.\\n36\\n96\\nv1\\n  [\\nph\\nys\\nics\\n.da\\nta-\\nan\\n]  \\n16\\n M\\nay\\n 20\\n13\\nin the off shore farms, pitch angle control on new wind turbines and evalua-\\ntion of a new site. Many researchers are working proposing new models that\\ncan allow the prediction of wind speed, minutes, hours or days ahead. Many\\nof these models are based on neural networks [1, 2], autoregressive models\\n[3, 4, 5], Markov chains [6, 7, 8, 9, 10, 11], hybrid models where the previous\\nmentioned models are combined [12, 9, 13, 14, 15, 16, 17, 18, 19, 20, 21, 22,\\n23, 24] and other less used models [25, 26, 27, 28, 29, 30]. Often, these models\\nare either focused on specific time scale forecasting, or synthetic time series\\ngeneration. Instead, our model can be used both for time series generation\\nand for forecasting at different time scales.\\nThe approach we propose here is based on indexed semi-Markov chain\\n(ISMC) model that was advanced by the same authors in [31] and applied to\\nthe generation of synthetic wind speed time series. In [31] we showed that our\\nmodel is able to reproduce correctly the statistical behavior of wind speed.\\nThe ISMC model is a nonparametric model because it does not require any\\nassumption on the form of the distribution function of wind speed. In this\\nwork we use the same model, slightly modified by adding a daily deterministic\\ncomponent, to forecast future values of wind speed. We will show that this\\nmodel performs better than a simple persistence model, by comparing the\\nroot mean square errors. The ISMC model is able to forecast wind speed\\nat different time scale without loosing the goodness of forecasting which\\nis almost independent from the time horizon. Another important aspect\\naddressed by this work is the number of data needed to have a good forecast.\\nWith this aim we will show the root mean square error as a function of the\\ndata used to calibrate the model.\\nThe paper is organized as follows. First of all, in Section 2, we describe\\nthe database used for the analysis. In Section 3, we present the model and its\\nvalidation. Then, in Section 4, we present results of the wind speed forecast-\\ning through an indicator of goodness and comparison with the persistence\\nmodel. Finally in Section 5 we present some concluding remarks.\\n2. Database\\nThe database used for the analysis in this work is freely available from\\n[37] and is composed of more than 230000 data of wind speed collected every\\n10 minutes. The weather station of L.S.I. -Lastem is situated in Italy at N\\n45 28’ 14,9” − E 9 22’ 19,9” and at 107 m of altitude. The station uses a\\ncombined speed-direction anemometer at 22 m above the ground. It has a\\n2\\n0 2 4 6 8\\n0\\n0.05\\n0.1\\nv [m/s]\\nFr\\neq\\nue\\nnc\\ny\\n25/10/2006 2007 2008 2009 2010 28/11/2011\\n4\\n8\\n12\\n16\\nTime\\nW\\nind\\n sp\\nee\\nd \\n[m\\n/s]\\nFigure 1: Database and its probability density distribution.\\nmeasurement range that goes from 0 to 60 m/s, a threshold of 0,38 m/s and\\na resolution of 0,05 m/s. The database and its empirical probability density\\nfunction are represented in Figure 1. We discretized wind speed into 8 states\\n(see Table 1) chosen to cover all the wind speed distribution. Table 1 shows\\nthe wind speed states with their related wind speed values.\\nIn order to analyze the behavior at different time scales, we resampled\\nthe data at different sampling frequencies: namely 30 minutes, 1 hour and 2\\nhours.\\n3. Model\\n3.1. The indexed semi-Markov chain model\\nThe general formulation of the ISMC as developed in references [32], [33],\\n[34] and [31] is here discussed informally.\\n3\\nSate Wind speed range m/s\\n1 0 to 1\\n2 1 - 2\\n3 2 - 3\\n4 3 - 4\\n5 4 - 5\\n6 5 - 6\\n7 6 - 7\\n8 >7\\nTable 1: Wind speed discretization\\nSemi-Markov processes have similar idea as those that generate Markov\\nprocesses. The processes are both described by a set of finite states vn whose\\ntransitions are ruled by a transition probability matrix. The semi-Markov\\nprocess differs from the Markov process because the transition times Tn are\\ngenerated according to random variables. Indeed, the time between transi-\\ntions Tn+1 − Tn is random and may be modeled by means of any type of\\ndistribution functions. In studies concerning wind speed modeling the states\\nvn indicates discretized wind speed at the nth transition and Tn the time in\\nwhich the nth change of wind speed occurs.\\nIn [35, 36], different semi-Markov models were applied to the wind speed\\nmodeling and it was shown that the semi-Markov models over perform the\\nMarkov models and therefore they are to be preferred in the modeling of\\nwind speed to Markovian models.\\nIn order to better represent the statistical characteristics of wind speed,\\nin a recent article, the idea of an ISMC was advanced in the field of wind\\nspeed, see [31]. The novelty, with respect to the semi-Markov case, consists\\nin the introduction of a third random variable defined as follow:\\nUmn =\\nm∑\\nk=0\\nvn−1−k · Tn−k − Tn−1−k\\nTn − Tn−1−m . (1)\\nThis variable can be interpreted as a moving average of order m+1 executed\\non the series of the past wind speed values (vn−1−k) with weights given by the\\nfractions of sojourn times in that wind speed (Tn−k − Tn−1−k) with respect\\nto the interval time on which the average is executed (Tn − Tn−1−m). Also\\n4\\nSate Um range m/s\\n1 0 to 2.1\\n2 2.1 - 2.6\\n3 2.6 - 3.4\\n4 3.4 - 6\\n5 >6\\nTable 2: Um processes discretization\\nthe process Um has been discretized, Table 2 shows the states of the process\\nand their values.\\nThe parametermmust be optimized as a function of the specific database.\\nThe optimization is made by finding the value of m that realize the minimum\\nof the root mean square error (RMSE) between the autocorrelation functions\\n(ACF) of real and simulated data, see [31]. In our analysis m = 7.\\nThe reasons to introduce this index of memory are found in the presence\\nof a strong autocorrelation that characterize the wind speed process. In the\\nsame work we have shown that if a too small memory is used, the autocor-\\nrelation is already persistent but decreases faster than real data. With a\\nlonger memory the autocorrelation remain high for a very long period and\\nalso its value is very close to that of real data. If m is increased further the\\nautocorrelation drops again to small values. This behavior suggests the exis-\\ntence of an optimal memory m. In our opinion one can justify this behavior\\nby saying that short memories are not enough to identify in which status\\n(low, medium low, medium, medium high, high, see Table 2) is the index\\nUm, too long memories mix together different status and then much of the\\ninformation is lost in the average.\\nThe one step transition probability matrix can be evaluated by consid-\\nering the counting transition between the three random variables considered\\nbefore. Then, the probability pi,j(t, u) represents the transition probability\\nfrom the actual wind speed state i, to the wind speed state j, given that the\\nsojourn time spent in the state i is equal to t and the value of the process\\nUm is u. These probabilities can be computed as:\\npi,j(t, u) =\\nni,j(t, u)∑\\nj\\nni,j(t, u)\\n, (2)\\n5\\nwhere nij(t, u) is the total number of transitions observed in the database\\nfrom state i to state j in next period having a sojourn time spent in the wind\\nspeed i equal to t and the value of the index process equal to u.\\nThe ISMC model revealed to be particularly efficient in reproducing to-\\ngether the probability density function of wind speed and the autocorrelation\\nfunction, see [31].\\n3.2. Deterministic wind speed component\\nThe speed of wind shows a diurnal behavior due to the alternation be-\\ntween night and day. In Figure 2, in which are plotted the ACF of real and\\nsimulated data, it is possible to note this sinusoidal trend (see Section 3.4\\nfor a better explanation of the figure). To model this seasonality we add a\\ndeterministic component given by a sine wave to the indexed semi-Markov\\nmodel:\\nvd = A · sin\\n(\\n2pi\\n24\\nh\\n)\\nh = 1, 2, ..., n. (3)\\nThe value of the parameter A has to be optimized according to the database\\nused for the analysis. In our case A = 0.41 and it has been obtained by\\nminimizing the RMSE between the ACF of real and synthetic data by using\\na genetic algorithm.\\n3.3. Transition probability matrix\\nWe computed the transition probability matrix by using equation (2)\\nto the wind speed database. Two examples of the estimated matrices are\\ngiven in Tables 3 and 4. As described above, in the model the transition\\nmatrix do depend from initial and arrival states but also from the sojourn\\ntime and the value of the random variable U. In the example given here we\\nshow the transition matrices for Um = 2 and t = 2 and for Um = 4 and\\nt = 2 respectively, evaluated from the original database with the sampling\\nfrequency of 10 minutes.\\nA first comparison between Table 3 and Table 4 reveals that the value of\\nthe index process affects seriously the transition probability to the next wind\\nspeed value. As a matter of example if i = 1, t = 2, Umn = 2, the probability\\nto have a wind speed j = 1 in next period is equal to 0.7065, see Table 3. On\\nthe contrary, if i = 1, t = 2, Umn = 4, the probability to have a wind speed\\nj = 1 in next period becomes 0.4900, see Table 4. The differences in the one\\nstep transition probabilities are significant and confirm the hypothesis that\\nnext wind speed depends also on the value of the index process. This fact\\n6\\nPij j=1 2 3 4 5 6 7 8\\ni=1 0.7065 0.2856 0.0074 0.0001 0.0001 0.0001 0.0001 0.0000\\n2 0.1546 0.7095 0.1310 0.0042 0.0004 0.0002 0.0001 0.0001\\n3 0.0064 0.2779 0.6300 0.0800 0.0045 0.0008 0.0003 0.0003\\n4 0.0005 0.0170 0.3227 0.5764 0.0773 0.0044 0.0011 0.0005\\n5 0.0000 0.0054 0.0349 0.3737 0.4919 0.0753 0.0134 0.0054\\n6 0.0000 0.0000 0.0000 0.0238 0.4048 0.3929 0.1786 0.0000\\n7 0.0000 0.0000 0.0357 0.0357 0.0714 0.3571 0.2857 0.2143\\n8 0.0000 0.0000 0.0000 0.0000 0.0435 0.0000 0.2174 0.7391\\nTable 3: Transition matrix for Um = 2 and t = 2.\\nPij j=1 2 3 4 5 6 7 8\\ni=1 0.4900 0.4300 0.0700 0.0000 0.0100 0.0000 0.0000 0.0000\\n2 0.1002 0.6171 0.2488 0.0242 0.0048 0.0016 0.0000 0.0032\\n3 0.0048 0.1456 0.6323 0.1975 0.0185 0.0000 0.0014 0.0000\\n4 0.0000 0.0154 0.2270 0.5886 0.1553 0.0113 0.0018 0.0006\\n5 0.0000 0.0009 0.0268 0.2763 0.5638 0.1220 0.0092 0.0009\\n6 0.0000 0.0000 0.0060 0.0301 0.3414 0.5120 0.1004 0.0100\\n7 0.0000 0.0000 0.0000 0.0000 0.0467 0.3400 0.4600 0.1533\\n8 0.0000 0.0000 0.0116 0.0233 0.0000 0.0465 0.2674 0.6512\\nTable 4: Transition matrix for Um = 4 and t = 2.\\nshows that the index process should be used when dealing with wind speed\\ndata.\\n3.4. Model validation\\nWe compute the ACF of real and synthetic data in order to assess the\\nability of the model to reproduce statistical properties of real wind speed\\ndata. We generate a synthetic time series by means of Monte Carlo simula-\\ntion. The specific algorithm used for the generation of the trajectory can be\\nfound in [31]. If v indicates wind speed, the time lagged (τ) autocorrelation\\nof wind speed is defined as:\\nΣ(τ) =\\nCov(v(t+ τ), v(t))\\nV ar(v(t))\\n. (4)\\n7\\n0 20 40 60 80 100\\n 0\\n \\n \\n \\n0.4 \\n \\n \\n \\n 0.8\\nTime lag (hours)\\nAu\\nto\\nco\\nrre\\nla\\ntio\\nn\\n \\n \\nReal data\\nSynthetic data\\nFigure 2: Autocorrelation function of real and synthetic data\\nThe time lag τ was made to run from 10 minutes up to 100 hours. The ACF\\nof real and the synthetic data are plotted in Figure 2. As it is possible to\\nnote, the ACF has a sinusoidal trend with a period of 24 hours. This behavior\\nis reproduced by our model with the introduction of the deterministic wind\\nspeed component evaluated by the equation (3.2). To asses the differences\\nbetween the ACF of real and synthetic data we used the root mean square\\nerror (RMSE) which is defined as follows:\\nRMSE =\\n√√√√ 1\\nn\\nn∑\\ni=1\\n(vri − vsi )2,\\nwhere vr and vs represent real data and synthetic one respectively, while n\\nis the length of the two series. For the ACF plotted in Figure 2 we obtained\\na RMSE equal to 0.0223.\\n4. Results\\n4.1. Wind speed forecasting\\nIn this section the ISMC model is used to forecast future wind speed\\nstates by using a one step ahead forecasting procedure, for different time\\n8\\nhorizons and for various time scales. Particularly, we tested our model using\\nthe previously described databases with a sampling frequency of 10 minutes,\\n30 minutes, 1 hour and 2 hours.\\nFor each one of the sampling frequencies, the database is divided into two\\nsubsets: the first part is used to find the transition probability matrix (as\\ndescribed in the previous section), we will call this part the setting period;\\nthe second part is used to compare the model forecasting with real data\\n(called testing period). As a first attempt to verify the model performance,\\nwe used two years of data as setting period and one year as testing. We will\\nshow in the paragraph 4.2 how to find the best setting period. Once the\\ntransition matrix is set, the forecasted states are computed as follows:\\nvf =\\nk∑\\nj=1\\nj pi,j(t, u), (5)\\nwhere k is the number of states in which wind speed is discretized and pi,j(t, u)\\nis the transition probability matrix. The formula represents the expected\\nvalue of the next transition given that the present wind speed value is i, the\\nsojourn time spent in the state i is equal to t and the value of the index\\nprocess Um is u.\\nIn Figure 3 we show the results obtained using our model for the four\\ndifferent time scales. In the figure the black continuous line represents real\\ndata while the dashed red line is the predicted series. In this figure the\\npredicted series are long 100 time horizon (specific time depending on the\\nsampling frequency).\\nAlready from this figure, it is possible to note that the goodness of the\\nprediction does not fall down at the increasing of the length of the forecasted\\nseries. To better verify this point, in Table 5 we show quantitative results of\\nour forecasting model for all the considered time scales and for different time\\nhorizons. Particularly, we show mean and standard deviation of the RMSE\\nbetween real and predicted data tested on 50 different forecasted series. Table\\n5 shows that the goodness of prediction remains almost constant even varying\\ntime scales and time horizons.\\nWe compare our model with a simple persistence model. This simple\\nmethod is often used, still today, in industry for its simplicity and for its\\nefficiency for very short-term predictions. It assumes that the wind speed at\\ntime t + ∆t is equal to the wind speed at time t. Commonly this method\\nis used to compare the behavior of new forecasting models [38]. Overall our\\n9\\n500 15000\\n5\\n10\\nTime [Minutes]\\n(a)\\n1500 30000\\n5\\n10\\n(b)\\n50 1000\\n5\\n10\\nTime [Hours]\\nW\\nin\\nd \\nsp\\nee\\nd \\n[m\\n/s\\n]\\n(c)\\n100 2000\\n5\\n10\\n(d)\\n \\n \\nReal Data\\nForecasting\\nFigure 3: Wind speed forecasting one step ahead for 100 time horizon. (a) 10 minutes\\ndatabase, (b) 30 minutes database, (c) 1 hour database, (d) 2 hours database.\\naaaaaaaaaaaa\\nTime\\nScale\\nTime\\nHorizon 50 100 500 1000\\n10 minutes 0.44 ± 0.02 0.44 ± 0.02 0.48 ± 0.02 0.52 ± 0.02\\n30 minutes 0.48 ± 0.01 0.50 ± 0.01 0.56 ± 0.01 0.62 ± 0.01\\n1 hour 0.54 ± 0.01 0.54 ± 0.01 0.61 ± 0.01 0.64 ± 0.01\\n2 hour 0.56 ± 0.01 0.59 ± 0.01 0.65 ± 0.01 0.69 ± 0.01\\nTable 5: RMSE between real data and forecasted series for different time scale and time\\nhorizon.\\n10\\nmodel has a higher efficiency in the forecast for all the time scales and time\\nhorizons. The persistence model do not change its goodness of forecasting at\\nvarying of the time horizon. Then we compare our results with the persistence\\nmodel at different time scales. For the frequency of 10 minutes, 30 minutes, 1\\nhour and 2 hours we have respectively an RMSE between the true series and\\nthe forecasted one generated through the persistence model of 0.59 ± 0.05,\\n0.63±0.08, 0.73±0.09 and 0.85±0.11. As is possible to note the persistence\\nmodel has less precision on the forecasting of the wind speed with respect to\\nour model and the standard deviation increases at the increasing of the time\\nscale in contrast to our model that has a reduction of the variability at the\\nincreasing of the time scale.\\n4.2. Number of data optimization\\nA serious problem to deal with in applying a nonparametric model is that\\nof data availability. An important point is that of establishing the dimension\\nof the setting period needed for a correct implementation of the model. From\\none part, reducing the setting period may determine the goodness of predic-\\ntion to drop down; on the other hand the availability of large database is\\ntime consuming and consequently not economically efficient and sometimes\\nnot statistically necessary. To fix this point as related to the ISMC model\\nwe computed the RMSE between real data and a forecasted time series of\\n1000 time horizon.\\nWe show, in Figure 4, the results obtained for the 30 minutes sampling\\nfrequency. It can be noted that the RMSE, plotted as a function of the\\nlogarithm of the setting period length, after about 3000 data (corresponding\\nroughly to 2 months) remains almost constant, suggesting that the use of\\na larger setting period is not necessary. We repeated the same analysis for\\nall the sampling frequency used obtaining: 20000 data (roughly 6 months)\\nfor 10 minutes sampling frequency, 2500 data (roughly 3 months) for 1 hour,\\nand 2000 (roughly 5 months) for 2 hours. The decreasing in the number of\\ndata need to have a good forecasting is mainly due to the reduction of noise\\nwhen the sampling frequency increases.\\n5. Discussion and conclusion\\nIn previous works we presented new stochastic models, all based on a\\nsemi-Markov approach, to generate synthetic time series of wind speed. We\\nshowed that all the models perform better than corresponding Markov chain\\n11\\n103 104\\n0.6\\n0.8\\n1\\n1.2\\n1.4\\n1.6\\nNumber of data\\nR\\nM\\nSE\\n [m\\n/s]\\nFigure 4: RMSE between real wind speed and forecasted series as a function of the loga-\\nrithm of the number of data.\\nbased models in reproducing statistical features of wind speed. Using these\\nresults, here, we tried to apply the model which we recognized to be the\\nbest among those, namely the indexed semi-Markov chain (ISMC) model, to\\nforecast future wind speed in a specific site. The ISMC model is a nonpara-\\nmetric model and because of this it does not need any assumption on the\\ndistribution of wind speed and on wind speed variations.\\nIn previous papers we showed that the ISMC model is able to reproduce\\ncorrectly, and at the same time, both the probability distribution function of\\nwind speed and the autocorrelation function.\\nThe results presented in this paper show that the model can be efficiently\\nused to forecast wind speed at different horizon times. The forecast per-\\nformance is almost independent from the time horizon used to forecast; the\\nmodel can be used without degradation during the considered horizon time,\\nat different time scales (we showed this for time scales ranging from 10 min-\\nutes to 2 hours).\\nThe number of data needed to reach a good forecast performance do\\ndepend on the time scale used for forecasting; the model always works better\\nthan a simple persistence model.\\n12\\nAll these characteristics suggest that the advanced ISMC model may\\nbe used both for modeling wind speed data and for wind speed prediction.\\nTherefore, it may be utilized as input data for any wind energy system.\\nReferences\\nReferences\\n[1] Guoa Z, Zhaob W, Luc H, Wang J. 2012. Multi-step forecasting for\\nwind speed using a modified EMD-based artificial neural network model.\\nRenewable Energy 37: 241-249.\\n[2] Bivona S, Bonanno G, Burlon R, Gurrera D, Leone C. 2011 Stochastic\\nmodels for wind speed forecasting. Energy Conversion and Management\\n52: 1157-1165.\\n[3] Poggi P, Muselli M, Notton G, Cristofari C, Louche A. 2003. Forecasting\\nand simulating wind speed in Corsica by using an autoregressive model.\\nEnergy Conversion and Management 44: 3177-3196.\\n[4] Kavasseri RG, Seetharaman . 2009. Day-ahead wind speed forecasting\\nusing f-ARIMA models. Renewable Energy 34: 1388-1393.\\n[5] Ailliot P, Monbet V, Prevosto M. 2006. An autoregressive model with\\ntime-varying coefficients for wind fields. Environmetrics 17 : 107-117.\\n[6] Shamshad A, Bawadi MA, Wan Hussin WMW, Majid TA, Sanusi SAM.\\n2005. First and second order Markov chain models for synthetic gener-\\nation of wind speed time series. Energy 30: 693-708.\\n[7] Nfaoui H, Essiarab H, Sayigh AAM. 2004. A stochastic Markov chain\\nmodel for simulating wind speed time series at Tangiers, Morocco. Re-\\nnewable Energy 29: 1407-1418.\\n[8] Kantza H. Holsteina D, Ragwitzb M, Vitanov NK. 2004. Markov chain\\nmodel for turbulent wind speed data. Physica A 342: 315-321.\\n[9] Castino F, Festa R, Ratto CF. 1998. Stochastic modelling of wind veloc-\\nities time series. Wind Engineering and Industrial Aerodynamics 7476:\\n141-151.\\n13\\n[10] Hocaoglua FO, Gerekb O¨N, Kurbanb M. 2010. A novel wind speed\\nmodeling approach using atmospheric pressure observations and hid-\\nden Markov models. Wind Engineering and Industrial Aerodynamics 98:\\n472-481.\\n[11] Fawcett L, Walshaw D. 2006. Markov chain models for extreme wind\\nspeeds. Environmetrics 17: 795-809.\\n[12] Youcef Ettoumi F, Sauvageot H, Adane AEH. 2003. Statistical bivariate\\nmodeling of wind using first-order Markov chain and Weibull distribu-\\ntion. Renewable Energy 28: 1787-1802.\\n[13] Cadenasa E, Rivera W. 2010. Wind speed forecasting in three differ-\\nent regions of Mexico, using a hybrid ARIMA-ANN model. Renewable\\nEnergy 35: 2732-2738.\\n[14] Turbelin G, Ngae P, Grignon M. 2009. Wavelet cross-correlation analysis\\nof wind speed series generated by ANN based models. Renewable Energy\\n34: 1024-1032.\\n[15] Pourmousavi Kania SA, Ardehali MM. 2011. Very short-term wind\\nspeed prediction: A new artificial neural network-Markov chain model.\\nEnergy Conversion and Management 52: 738-745.\\n[16] Aksoy H, Toprak ZF, Aytek A, U¨nal NE. 2004. Stochastic generation of\\nhourly mean wind speed data. Renewable Energy 29: 2111-2131.\\n[17] Denison DGT, Dellaportas P, Mallick BK. 2001. Wind speed prediction\\nin a complex terrain. Environmetrics 12: 499-515.\\n[18] Pandey MD, Van Gelder PHAJM, Vrijling JK. 2003. Bootstrap simula-\\ntions for evaluating the uncertainty associated with peaks-over-threshold\\nestimates of extreme wind velocity. Environmetrics 14: 27-43.\\n[19] Z. Guo, W. Zhao, H. Lu, J. Wang, Multi-step forecasting for wind speed\\nusing a modified EMD-based artificial neural network model. Renewable\\nEnergy 37 (2012) 241-249.\\n[20] M. Monfareda, H. Rastegar, H.M. Kojabadi, A new strategy for wind\\nspeed forecasting using artificial intelligent methods. Renewable Energy\\n34 (2009) 845-848.\\n14\\n[21] G. Li, J. Shi, J. Zhou, Bayesian adaptive combination of short-term\\nwind speed forecasts from neural network models. Renewable Energy 36\\n(2011) 352-359.\\n[22] H. Peng, F. Liu, X. Yang, A hybrid strategy of short term wind power\\nprediction. Renewable Energy 50 (2013) 590-595.\\n[23] R.G. Kavasseri, K. Seetharaman, Day-ahead wind speed forecasting us-\\ning f-ARIMA models. Renewable Energy 34 (2009) 13881393.\\n[24] H. Liua, H. Tiana, C. Chenb, Y. Lia, A hybrid statistical method to pre-\\ndict wind speed and wind power. Renewable Energy 35 (2010) 18571861\\n[25] S. Salcedo-Sanz, A.M. Perez-Bellido, E.G. Ortiz-Garcia, A. Portilla-\\nFigueras, L. Prieto, D. Paredes, Hybridizing the fifth generation\\nmesoscale model with artificial neural networks for short-term wind\\nspeed prediction. Renewable Energy 34 (2009) 14511457.\\n[26] I. Segura-Heras, G. Escriva-Escriva, M. Alczar-Ortega, Wind farm elec-\\ntrical power production model for loadflow analysis. Renewable Energy\\n36 (2011) 10081013.\\n[27] K. Tar, S. Szegedi, A statistical model for estimating electricity pro-\\nduced by wind energy. Renewable Energy 36 (2011) 823-828.\\n[28] Y. Jiang, Z. Song, A. Kusiak, Very short-term wind speed forecasting\\nwith Bayesian structural break model. Renewable Energy 50 (2013)\\n637-647.\\n[29] L. Lazic, G. Pejanovic, M. Zivkovic, Wind forecasts for wind power\\ngeneration using the Eta model. Renewable Energy 35 (2010) 12361243.\\n[30] R.E. Abdel-Aal, M.A. Elhadidy, S.M. Shaahid, Modeling and forecasting\\nthe mean hourly wind speed time series using GMDH-based abductive\\nnetworks. Renewable Energy 34 (2009) 16861699.\\n[31] D’Amico G, Petroni F, Prattico F, Wind speed modeled as an indexed\\nsemi-Markov process, Accepted for publication on Environmetrics, 2013.\\n[32] D’Amico G., Age-usage semi-Markov models, Applied Mathematical\\nModelling, 35, (2011), 4354-4366.\\n15\\n[33] D’Amico G. and F. Petroni, A semi-Markov model with memory for\\nprice changes, Journal of Statistical Mechanics: Theory and Experiment\\n(2011) P12009.\\n[34] G. D’Amico and F. Petroni, Weighted-indexed semi-Markov models for\\nmodeling financial returns, Journal of Statistical Mechanics: Theory and\\nExperiment, (2012) P07015.\\n[35] D’Amico G, Petroni F, Prattico F. 2013. First and second order semi-\\nMarkov chains for wind speed modeling. Physica A 392: 1194-1201.\\n[36] D’Amico G, Petroni F, Prattico F. 2013. Reliability measures of second\\norder semi-Markov chain applied to wind energy production. Journal of\\nRenewable Energy 2013.\\n[37] http : //www.lsi-lastem.it/meteo/page/dwnldata.aspx\\n[38] S. Saurabh, H. Zareipour, A Review of Wind Power and Wind Speed\\nForecasting Methods With Different Time Horizons. IEEE North Amer-\\nican Power Symposium (NAPS), 2010.\\n16\\n',\n",
       " 'id': 17125639,\n",
       " 'identifiers': [{'identifier': 'oai:arxiv.org:1305.3696', 'type': 'OAI_ID'},\n",
       "  {'identifier': '24933053', 'type': 'CORE_ID'},\n",
       "  {'identifier': '54533522', 'type': 'CORE_ID'},\n",
       "  {'identifier': '297903089', 'type': 'CORE_ID'},\n",
       "  {'identifier': 'oai:iris.univpm.it:11566/263760', 'type': 'OAI_ID'},\n",
       "  {'identifier': 'info:doi/10.1016%2fj.physa.2014.03.034', 'type': 'OAI_ID'},\n",
       "  {'identifier': '10.1016/j.physa.2014.03.034', 'type': 'DOI'},\n",
       "  {'identifier': '209880239', 'type': 'CORE_ID'},\n",
       "  {'identifier': '2740963174', 'type': 'MAG_ID'},\n",
       "  {'identifier': '1305.3696', 'type': 'ARXIV_ID'},\n",
       "  {'identifier': 'oai:iris.uniroma1.it:11573/872564', 'type': 'OAI_ID'}],\n",
       " 'title': 'Wind speed forecasting at different time scales: a non parametric\\n  approach',\n",
       " 'language': {'code': 'en', 'name': 'English'},\n",
       " 'magId': None,\n",
       " 'oaiIds': ['oai:iris.uniroma1.it:11573/872564',\n",
       "  'oai:iris.univpm.it:11566/263760',\n",
       "  'oai:arxiv.org:1305.3696',\n",
       "  'info:doi/10.1016%2fj.physa.2014.03.034'],\n",
       " 'publishedDate': '2013-05-16T01:00:00',\n",
       " 'publisher': \"'Elsevier BV'\",\n",
       " 'pubmedId': None,\n",
       " 'references': [],\n",
       " 'sourceFulltextUrls': ['http://arxiv.org/abs/1305.3696'],\n",
       " 'updatedDate': '2024-03-02T14:49:11',\n",
       " 'yearPublished': 2013,\n",
       " 'journals': [{'title': None, 'identifiers': ['0378-4371']}],\n",
       " 'links': [{'type': 'download', 'url': 'http://arxiv.org/abs/1305.3696'},\n",
       "  {'type': 'display', 'url': 'https://core.ac.uk/works/17125639'}]}"
      ]
     },
     "execution_count": 9,
     "metadata": {},
     "output_type": "execute_result"
    }
   ],
   "source": [
    "r['results'][0]"
   ]
  },
  {
   "cell_type": "markdown",
   "id": "ff2cd51e",
   "metadata": {},
   "source": [
    "We can take some of this information to cretae a nice summary of the paper:"
   ]
  },
  {
   "cell_type": "code",
   "execution_count": 10,
   "id": "7fc244e0",
   "metadata": {
    "scrolled": true
   },
   "outputs": [
    {
     "name": "stdout",
     "output_type": "stream",
     "text": [
      "Wind speed forecasting at different time scales: a non parametric\n",
      "  approach\n",
      "The prediction of wind speed is one of the most important aspects when\n",
      "dealing with renewable energy. In this paper we show a new nonparametric model,\n",
      "based on semi-Markov chains, to predict wind speed. Particularly we use an\n",
      "indexed semi-Markov model, that reproduces accurately the statistical behavior\n",
      "of wind speed, to forecast wind speed one step ahead for different time scales\n",
      "and for very long time horizon maintaining the goodness of prediction. In order\n",
      "to check the main features of the model we show, as indicator of goodness, the\n",
      "root mean square error between real data and predicted ones and we compare our\n",
      "forecasting results with those of a persistence model\n",
      "http://arxiv.org/abs/1305.3696\n"
     ]
    }
   ],
   "source": [
    "i = 0\n",
    "print(r['results'][i]['title'])\n",
    "print(r['results'][i]['abstract'])\n",
    "print(r['results'][i]['downloadUrl'])"
   ]
  },
  {
   "cell_type": "markdown",
   "id": "cee5b875",
   "metadata": {},
   "source": [
    "Let's define a function that can return all of this metadata that we want, along with the full text of the paper"
   ]
  },
  {
   "cell_type": "code",
   "execution_count": 18,
   "id": "5ef416e0",
   "metadata": {},
   "outputs": [],
   "source": [
    "def core_query(query, limit=10, offset=0):\n",
    "    ''' Takes an integer limit and a string query where space is replaced with +, and = AND, or = OR. \n",
    "    Returns a Pandas DataFrame with paper titles, abstracts, links, and text. '''\n",
    "    paper_df = pd.DataFrame()\n",
    "    \n",
    "    core_api_key = '0IyesnpxHglJ8brOMXzUQfNi91S7PR3Z'\n",
    "    headers={\"Authorization\" : \"Bearer \" + core_api_key}\n",
    "    url = 'https://api.core.ac.uk/v3/search/works/'\n",
    "    r = requests.get(url + '?q=' + query + f'&limit={limit}' + f'&offset={offset}', headers=headers).json()['results']\n",
    "    \n",
    "    paper_df['title'] = [r[i]['title'] for i in range(len(r))]\n",
    "    paper_df['abstract'] = [r[i]['abstract'] for i in range(len(r))]\n",
    "    paper_df['link'] = [r[i]['downloadUrl'] for i in range(len(r))]\n",
    "    paper_df['text'] = [r[i]['fullText'] for i in range(len(r))]\n",
    "    \n",
    "    text_list = []\n",
    "    for i in range(len(paper_df)):\n",
    "        # Modify arxiv links to point directly to the article\n",
    "        url = paper_df.loc[i, 'link']\n",
    "        if 'abs' in url:\n",
    "            url_left = url[:url.find('abs')] \n",
    "            url_right = url[url.find('abs') + 3:]\n",
    "            url = url_left + 'pdf' + url_right\n",
    "        paper_df.loc[i, 'link'] = url\n",
    "        \n",
    "        # Remove links and newlines from the text (to reduce noise)\n",
    "        text = paper_df.loc[i, 'text']\n",
    "        text = text.replace(\"\\n\", \"\")\n",
    "        new_text = []\n",
    "        for word in text.split(\" \"):\n",
    "            word = 'http' if word.startswith('http') else word\n",
    "            new_text.append(word)\n",
    "        text = \" \".join(new_text)\n",
    "        paper_df.loc[i, 'text'] = text\n",
    "        \n",
    "    return paper_df"
   ]
  },
  {
   "cell_type": "code",
   "execution_count": 19,
   "id": "787fd55a",
   "metadata": {},
   "outputs": [
    {
     "data": {
      "text/html": [
       "<div>\n",
       "<style scoped>\n",
       "    .dataframe tbody tr th:only-of-type {\n",
       "        vertical-align: middle;\n",
       "    }\n",
       "\n",
       "    .dataframe tbody tr th {\n",
       "        vertical-align: top;\n",
       "    }\n",
       "\n",
       "    .dataframe thead th {\n",
       "        text-align: right;\n",
       "    }\n",
       "</style>\n",
       "<table border=\"1\" class=\"dataframe\">\n",
       "  <thead>\n",
       "    <tr style=\"text-align: right;\">\n",
       "      <th></th>\n",
       "      <th>title</th>\n",
       "      <th>abstract</th>\n",
       "      <th>link</th>\n",
       "      <th>text</th>\n",
       "    </tr>\n",
       "  </thead>\n",
       "  <tbody>\n",
       "    <tr>\n",
       "      <th>0</th>\n",
       "      <td>Wind speed forecasting at different time scale...</td>\n",
       "      <td>The prediction of wind speed is one of the mos...</td>\n",
       "      <td>http://arxiv.org/pdf/1305.3696</td>\n",
       "      <td>Wind speed forecasting at different time scale...</td>\n",
       "    </tr>\n",
       "    <tr>\n",
       "      <th>1</th>\n",
       "      <td>Wind power prediction models</td>\n",
       "      <td>Investigations were performed to predict the p...</td>\n",
       "      <td>https://core.ac.uk/download/pdf/42880399.pdf</td>\n",
       "      <td>General Disclaimer One or more of the Followin...</td>\n",
       "    </tr>\n",
       "    <tr>\n",
       "      <th>2</th>\n",
       "      <td>Prediction of power generation from a wind farm</td>\n",
       "      <td>Wind farms produce a variable power output dep...</td>\n",
       "      <td>https://core.ac.uk/download/pdf/6182363.pdf</td>\n",
       "      <td>PREDICTION OF POWER GENERATIONFROM A WIND FARM...</td>\n",
       "    </tr>\n",
       "    <tr>\n",
       "      <th>3</th>\n",
       "      <td>Hybrid Wind Speed Prediction Model Using Intri...</td>\n",
       "      <td>Before sitting a wind turbine, reliable wind s...</td>\n",
       "      <td>https://core.ac.uk/download/480425308.pdf</td>\n",
       "      <td>INTERNATIONAL JOURNAL OF INTEGRATED ENGINEERI...</td>\n",
       "    </tr>\n",
       "    <tr>\n",
       "      <th>4</th>\n",
       "      <td>Wind Turbine Noise and Wind Speed Prediction</td>\n",
       "      <td>In order to meet the US Department of Energy p...</td>\n",
       "      <td>https://core.ac.uk/download/229163990.pdf</td>\n",
       "      <td>Georgia Southern University Digital Commons@Ge...</td>\n",
       "    </tr>\n",
       "    <tr>\n",
       "      <th>5</th>\n",
       "      <td>Short-Term Wind Speed Forecasting Model Using ...</td>\n",
       "      <td>Wind speed is one of the most vital, imperativ...</td>\n",
       "      <td>https://core.ac.uk/download/577152945.pdf</td>\n",
       "      <td>Chapter 7 Short-Term Wind Speed Forecasting Mo...</td>\n",
       "    </tr>\n",
       "  </tbody>\n",
       "</table>\n",
       "</div>"
      ],
      "text/plain": [
       "                                               title  \\\n",
       "0  Wind speed forecasting at different time scale...   \n",
       "1                       Wind power prediction models   \n",
       "2    Prediction of power generation from a wind farm   \n",
       "3  Hybrid Wind Speed Prediction Model Using Intri...   \n",
       "4       Wind Turbine Noise and Wind Speed Prediction   \n",
       "5  Short-Term Wind Speed Forecasting Model Using ...   \n",
       "\n",
       "                                            abstract  \\\n",
       "0  The prediction of wind speed is one of the mos...   \n",
       "1  Investigations were performed to predict the p...   \n",
       "2  Wind farms produce a variable power output dep...   \n",
       "3  Before sitting a wind turbine, reliable wind s...   \n",
       "4  In order to meet the US Department of Energy p...   \n",
       "5  Wind speed is one of the most vital, imperativ...   \n",
       "\n",
       "                                           link  \\\n",
       "0                http://arxiv.org/pdf/1305.3696   \n",
       "1  https://core.ac.uk/download/pdf/42880399.pdf   \n",
       "2   https://core.ac.uk/download/pdf/6182363.pdf   \n",
       "3     https://core.ac.uk/download/480425308.pdf   \n",
       "4     https://core.ac.uk/download/229163990.pdf   \n",
       "5     https://core.ac.uk/download/577152945.pdf   \n",
       "\n",
       "                                                text  \n",
       "0  Wind speed forecasting at different time scale...  \n",
       "1  General Disclaimer One or more of the Followin...  \n",
       "2  PREDICTION OF POWER GENERATIONFROM A WIND FARM...  \n",
       "3   INTERNATIONAL JOURNAL OF INTEGRATED ENGINEERI...  \n",
       "4  Georgia Southern University Digital Commons@Ge...  \n",
       "5  Chapter 7 Short-Term Wind Speed Forecasting Mo...  "
      ]
     },
     "metadata": {},
     "output_type": "display_data"
    }
   ],
   "source": [
    "df = core_query('wind+speed+(prediction|predict)', 10)\n",
    "display(df)"
   ]
  }
 ],
 "metadata": {
  "kernelspec": {
   "display_name": "Python 3 (ipykernel)",
   "language": "python",
   "name": "python3"
  },
  "language_info": {
   "codemirror_mode": {
    "name": "ipython",
    "version": 3
   },
   "file_extension": ".py",
   "mimetype": "text/x-python",
   "name": "python",
   "nbconvert_exporter": "python",
   "pygments_lexer": "ipython3",
   "version": "3.11.0"
  }
 },
 "nbformat": 4,
 "nbformat_minor": 5
}
