{
 "cells": [
  {
   "cell_type": "markdown",
   "id": "79943ba9",
   "metadata": {},
   "source": [
    "One way we can query phi-3 is through a locally run API server"
   ]
  },
  {
   "cell_type": "code",
   "execution_count": 13,
   "id": "c2da5744",
   "metadata": {},
   "outputs": [
    {
     "name": "stderr",
     "output_type": "stream",
     "text": [
      "invalid pdf header: b'<scri'\n",
      "EOF marker not found\n"
     ]
    },
    {
     "name": "stdout",
     "output_type": "stream",
     "text": [
      "Bad link: https://core.ac.uk/download/pdf/6182363.pdf\n",
      "Querying API server, please be patient...\n",
      "The studies presented in the abstract highlight the limitations of using Markov chain models for wind speed forecasting. Specifically, the researchers note that Markov chain models require certain assumptions on the distribution of wind speed and its variations, which may not always hold true in real-world scenarios. Additionally, the researchers observed that while the Markov chain models perform well in reproducing the statistical features of wind speed, their ability to forecast wind speed at different horizon times is dependent on the time scale used. This suggests that the models may not be universally applicable and may require further optimization for specific use cases.\n",
      "\n",
      "The use of semi-Markov models, particularly the indexed semi-Markov chain (ISMC) model, is suggested as a potential solution to these limitations. The ISMC model does not require any assumptions on the distribution of wind speed, making it more versatile in various scenarios. The studies have demonstrated that the ISMC model can effectively reproduce the probability distribution function of wind speed and the autocorrelation function, making it a promising candidate for wind speed forecasting.\n",
      "\n",
      "However, the researchers also identify potential areas for future research. While the ISMC model has shown promise in forecasting wind speed at different horizon times, the performance is almost independent from the time horizon used. Further exploration of the ISMC model's capabilities and limitations at different time scales and in different environmental conditions would be valuable. Additionally, investigating the integration of the ISMC model with other techniques, such as artificial neural networks, could potentially enhance its forecasting abilities.\n",
      "\n",
      "Overall, these studies contribute to the understanding of wind speed forecasting and offer insights into the limitations of existing models. The ISMC model, in particular, presents a promising avenue for future research and development in wind speed forecasting, with potential applications in wind energy systems and other industries that rely on accurate wind speed predictions.<|end|>\n"
     ]
    }
   ],
   "source": [
    "from functions import *\n",
    "context = \"List and analyze the limitations of the studies provided within a greater context. Identify and explain any potential for future research indicated.\"\n",
    "prompt = core_query(\"wind+speed+prediction\", 10).loc[0, \"text\"]\n",
    "if prompt.find(\"conclusion\") + 4000 < len(prompt):\n",
    "    prompt = prompt[prompt.find(\"conclusion\"):prompt.find(\"conclusion\") + 4000]\n",
    "else:\n",
    "    prompt = prompt[prompt.find(\"conclusion\"):]\n",
    "print(\"Querying API server, please be patient...\")\n",
    "response, context = api_server_query(context, prompt)\n",
    "print(response)"
   ]
  },
  {
   "cell_type": "markdown",
   "id": "30df872e",
   "metadata": {},
   "source": [
    "Although it could be costly to scale, it is much faster to use a serverless implementation through Azure AI  (although it's still relatively slow because of the large context length)."
   ]
  },
  {
   "cell_type": "code",
   "execution_count": 2,
   "id": "8b06dc43",
   "metadata": {},
   "outputs": [],
   "source": [
    "from dotenv import load_dotenv\n",
    "from azure.ai.inference import ChatCompletionsClient\n",
    "from azure.core.credentials import AzureKeyCredential\n",
    "\n",
    "def research_query(prompt):\n",
    "    ''' Takes a text prompt and returns phi 3.5 responses and a dictionary of token usage. '''\n",
    "    load_dotenv()\n",
    "    api_key = os.getenv(\"AZURE_INFERENCE_CREDENTIAL\", '')\n",
    "    if not api_key:\n",
    "      raise Exception(\"A key should be provided to invoke the endpoint\")\n",
    "\n",
    "    client = ChatCompletionsClient(\n",
    "        endpoint='https://Phi-3-5-mini-instruct-bzsru.eastus2.models.ai.azure.com',\n",
    "        credential=AzureKeyCredential(api_key)\n",
    "    )\n",
    "\n",
    "    result = client.complete({\n",
    "        \"messages\": [\n",
    "          {\n",
    "            \"role\": \"user\",\n",
    "            \"content\": prompt + \"List and explain within the list any potential for future research within the context of the field of research. Try to keep your response centered around 5 major gaps in the research.\"\n",
    "          }\n",
    "        ],\n",
    "        \"temperature\": 0.8,\n",
    "        \"top_p\": 0.95,\n",
    "    })\n",
    "    response = str(result.choices[0].message.content)\n",
    "\n",
    "    # Bold the text between asterisks so it looks nice\n",
    "    while \"**\" in response:\n",
    "        first = response.find(\"**\")\n",
    "        left = response[:first]\n",
    "        second = response[response.find(\"**\") + 2:].find(\"**\") + first + 2\n",
    "        right = response[second + 2:]\n",
    "        middle = response[first + 2:second]\n",
    "        middle = '\\033[1m' + middle + '\\033[0m'\n",
    "        response = left + middle + right\n",
    "\n",
    "    response += \"\\n\\n\"\n",
    "    for i in range(len(paper_df)):\n",
    "        response += f\"[{i + 1}] {paper_df.loc[i, 'citation']} \\n\\n\"\n",
    "\n",
    "    tokens_usage = {\"prompt\": result.usage.prompt_tokens, \n",
    "                    \"completion\": result.usage.completion_tokens, \n",
    "                    \"total\": result.usage.total_tokens}\n",
    "    return response, tokens_usage"
   ]
  },
  {
   "cell_type": "code",
   "execution_count": 1,
   "id": "6e0b595b",
   "metadata": {},
   "outputs": [
    {
     "name": "stdout",
     "output_type": "stream",
     "text": [
      " 1. \u001b[1mIntegration of Multiple Data Sources\u001b[0m: The research predominantly focuses on historical stock prices and traditional financial indicators. Future studies could explore the integration of alternative data sources such as social media sentiment, economic indicators, company news releases, and geopolitical events to enhance prediction models. This could provide a more holistic view of factors influencing stock prices and improve the robustness of predictions.\n",
      "\n",
      "2. \u001b[1mReal-time Data Analysis and Prediction\u001b[0m: Most studies analyze data retrospectively. There is potential for research focused on developing models that can analyze and predict stock movements in real-time, utilizing streaming data from various sources. This would be highly beneficial for traders and investors seeking to make timely decisions.\n",
      "\n",
      "3. \u001b[1mHyperparameter Optimization and Model Selection\u001b[0m: While several machine learning models are employed, there is limited exploration into the optimal tuning of hyperparameters and model selection for stock prediction. Further research could systematically investigate the impact of different hyperparameters on prediction accuracy, helping to identify the best-performing models and configurations for various market conditions.\n",
      "\n",
      "4. \u001b[1mAdaptive Learning Models\u001b[0m: Most models in stock prediction are static and do not adapt to changing market dynamics. Research into adaptive machine learning models that can update their parameters in response to market changes could be beneficial. This could involve reinforcement learning techniques or online learning models that continuously learn from new data.\n",
      "\n",
      "5. \u001b[1mInterpretability and Explainability of Predictions\u001b[0m: Machine learning models, especially deep learning ones, are often seen as \"black boxes\" with limited interpretability. Future research could focus on developing models that not only predict stock prices accurately but also provide interpretable and explainable predictions. This would help traders and investors understand the reasoning behind the predictions, increasing trust and allowing for better decision-making. Techniques such as SHAP (SHapley Additive exPlanations) and LIME (Local Interpretable Model-agnostic Explanations) could be used to shed light on model decisions.\n",
      "\n",
      "6. \u001b[1mCross-asset and Cross-market Analysis\u001b[0m: Current research is often siloed by asset type (e.g., stocks, bonds, commodities). There is scope for studying correlations and causal relationships across different asset classes and markets. This could involve multivariate models that take into account global market dynamics and how they influence individual stocks and sectors.\n",
      "\n",
      "7. \u001b[1mRisk Management and Portfolio Optimization\u001b[0m: Many studies focus on prediction without addressing the subsequent steps of risk management. Future research could explore how predicted stock prices can be integrated into risk management and portfolio optimization strategies, helping investors to not only predict returns but also to manage risk more effectively.\n",
      "\n",
      "8. \u001b[1mLong-term Trend Analysis\u001b[0m: Most studies focus on short-term predictions. There is a need for research on models that can capture long-term trends and cycles in the stock market, which could be useful for strategic investment planning.\n",
      "\n",
      "9. \u001b[1mCrisis and Stress Testing Models\u001b[0m: The financial markets are prone to crises and stress events. Future research could focus on testing and improving the resilience of machine learning models under extreme market conditions, such as financial crises, pandemics, or geopolitical conflicts, ensuring that the models can maintain their predictive power during these events.\n",
      "\n",
      "10. \u001b[1mCustomized and Personalized Models for Individual Investors\u001b[0m: Most models consider the market as a whole. There is potential for developing models that can be tailored to the specific risk profiles, investment horizons, and strategies of individual investors. This could involve clustering techniques or user-centric approaches that adapt to different investor behaviors and preferences.\n",
      "\n",
      "By addressing these research gaps, the field of machine learning for stock market prediction could advance significantly, providing investors and traders with more accurate, timely, and actionable insights to inform their investment decisions.\n",
      "\n",
      "    Aryaa Thapa, et al. \"Assessing Machine Learning's Accuracy in Stock Price Prediction.\" 2023, https://core.ac.uk/download/588031688.pdf \n",
      "\n",
      "    Ahmad, Faraz, and Pawan Singh. \"Stock Price Prediction using ML and LSTM based Deep Learning models.\" 2022, https://doi.org/10.54060/jieee/003.01.008 \n",
      "\n",
      "    Tipirisetty, Abhinav. \"Stock Price Prediction using Deep Learning.\" 2018, https://core.ac.uk/download/159401047.pdf \n",
      "\n",
      "    Lin, Peiyong. \"Google Stock Analysis Using Machine Learning.\" 2023, https://doi.org/10.18686/esta.v9i4.300 \n",
      "\n",
      "    渡邉 祐太郎. \"Acquisition of stock trading strategy using predicted stock price.\" 2020, https://core.ac.uk/download/326759255.pdf \n",
      "\n",
      "    Adebiyi, A. A., et al. \"Fuzzy-neural model with hybrid market indicatorsfor stock forecasting.\" 2011, https://core.ac.uk/download/32225423.pdf \n",
      "\n",
      "    Rahnamay Roodposhti, Fereydoon, and Mojtaba Sedighi. \"Designing a Novel Model for Stock Price Prediction Using an Integrated Multi-Stage Structure: The Case of the Bombay Stock Exchange.\" 2022, https://doi.org/10.14453/aabfj.v16i6.05 \n",
      "\n",
      "    C S, Akhil Yadav, et al. \"Stock Price Prediction using Bat Algorithm.\" 2023, https://core.ac.uk/download/560706510.pdf \n",
      "\n",
      "\n"
     ]
    }
   ],
   "source": [
    "from functions import *\n",
    "# \"((stock+price)OR(valuation))AND(financial+metrics)\"\n",
    "# \"(machine+learning)AND((price+prediction)OR(stock+price))\"\n",
    "print(research_query(\"(machine+learning)AND((price+prediction)OR(stock+price))\", limit=9, offset=3)[0])"
   ]
  },
  {
   "cell_type": "code",
   "execution_count": 18,
   "id": "0c87d421",
   "metadata": {},
   "outputs": [],
   "source": [
    "paper_df = semantic_scholar_query(\"((stock+price)OR(earnings))AND(financial+metrics)\", 10)\n",
    "prompt = \"\"\n",
    "for text in paper_df['abstract']:\n",
    "    if text != None:\n",
    "        prompt += text"
   ]
  },
  {
   "cell_type": "code",
   "execution_count": 20,
   "id": "6ce65d0e",
   "metadata": {},
   "outputs": [
    {
     "data": {
      "text/plain": [
       "'Objectives: This paper sought to undertake a comprehensive analysis aimed at investigating the influence arising from the various financial metrics, namely the Current Ratio, Debt-to-Equity Ratio, Return On Assets, and Total Assets Turnover on Earnings Per Share (EPS), and Stock Prices as the moderating variable.\\xa0Methodology: This research employs a quantitative descriptive methodology by collecting financial reports of Food and Beverage companies listed on the Indonesia Stock Exchange (BEI). The measurement model and hypothesis testing are Descriptive Statistics with a Panel Data Regression Model Selection.Finding: The study found that the Current Ratio had no significant direct effect on Earnings Per Share (EPS), while the Debt to Equity Ratio, Return on Assets, and Total Assets Turnover all had varying degrees of negative influence on EPS via Stock Price. The combined impact of these metrics was statistically significant, emphasizing the importance of considering multiple factors when assessing financial performance.Conclusion: The use of predictive models to forecast stock performance based on these factors can offer significant benefits to both investors and company management. Moreover, this research can aid in the development of better financial metrics, more effective risk management, smarter investment strategies, and an interdisciplinary approach to understanding the complex relationships between financial factors and stock prices. All of this will provide more robust tools for evaluating company performance and making better investment decisions in the world of investments.'"
      ]
     },
     "execution_count": 20,
     "metadata": {},
     "output_type": "execute_result"
    }
   ],
   "source": [
    "paper_df.loc[1, 'abstract']"
   ]
  },
  {
   "cell_type": "code",
   "execution_count": null,
   "id": "2584d38d",
   "metadata": {},
   "outputs": [],
   "source": []
  }
 ],
 "metadata": {
  "kernelspec": {
   "display_name": "Python 3 (ipykernel)",
   "language": "python",
   "name": "python3"
  },
  "language_info": {
   "codemirror_mode": {
    "name": "ipython",
    "version": 3
   },
   "file_extension": ".py",
   "mimetype": "text/x-python",
   "name": "python",
   "nbconvert_exporter": "python",
   "pygments_lexer": "ipython3",
   "version": "3.11.0"
  }
 },
 "nbformat": 4,
 "nbformat_minor": 5
}
