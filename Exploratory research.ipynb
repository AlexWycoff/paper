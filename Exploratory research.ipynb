{
 "cells": [
  {
   "cell_type": "code",
   "execution_count": 2,
   "id": "02e34a63",
   "metadata": {
    "scrolled": false
   },
   "outputs": [
    {
     "name": "stdout",
     "output_type": "stream",
     "text": [
      "What topic do you want to explore? sports analytics\n",
      "Boolean search: (sports+analytics)|(performance+metrics)|(player+statistics)|(game+strategy)|(predictive+modeling)|(sports+data+analysis)|(real-time+analytics)|(player+evaluation)|(injury+prevention)|(sports+betting)\n",
      " 1. \u001b[1mIntegration of Multimodal Data Sources\u001b[0m: While the studies demonstrate the potential of using various data types (e.g., player statistics, biomechanical data, environmental conditions) for predictive modeling, future research could explore more sophisticated methods for integrating these multimodal data sources. This could involve advanced machine learning techniques that can handle heterogeneous data types, feature engineering to capture complex interactions between different data modalities, and the development of hybrid models that can leverage the strengths of different data types.\n",
      "\n",
      "2. \u001b[1mReal-time Data Processing and Decision-making\u001b[0m: Many of the studies focus on retrospective analysis or controlled environments. Future research could delve into real-time data processing capabilities, enabling dynamic adjustments to predictions during live events. This would involve developing models that can process streaming data, make quick decisions, and adapt to changing conditions, which is particularly relevant for sports betting, real-time analytics, and dynamic player management.\n",
      "\n",
      "3. \u001b[1mPersonalized Predictive Models\u001b[0m: Current models may not fully account for the individual variability among players. Future research could focus on developing personalized models that learn from an individual's unique characteristics and historical performance, potentially leading to more accurate predictions. This could involve deep learning techniques that can handle complex, non-linear relationships and account for temporal dynamics in individual performance.\n",
      "\n",
      "4. \u001b[1mCross-Sport and Cross-Player Performance Comparisons\u001b[0m: While the studies are often specific to a single sport, future research could explore how models developed for one sport or player type can be generalized or adapted to others. This could involve developing transfer learning approaches, where a model trained on data from one sport or player type can be fine-tuned using data from another, or cross-validation techniques to assess the model's generalizability.\n",
      "\n",
      "5. \u001b[1mImpact of External Factors and Environmental Conditions\u001b[0m: Many predictive models could benefit from incorporating external factors such as weather conditions, venue characteristics, or even psychological states of players. Future research could explore how these factors can be quantified, integrated into predictive models, and used to improve their accuracy. This could involve interdisciplinary research, combining sports science, meteorology, psychology, and data science.\n",
      "\n",
      "6. \u001b[1mEthical and Privacy Considerations in Data Use\u001b[0m: As predictive models become more sophisticated and data-driven, there is an increasing need to address ethical and privacy concerns. Future research could explore how to responsibly use and share player data, ensuring transparency, consent, and data security. This could involve developing guidelines for ethical data use in sports analytics, exploring privacy-preserving data analysis techniques, and engaging with stakeholders to establish best practices.\n",
      "\n",
      "By addressing these gaps, future research can enhance the accuracy, applicability, and ethical considerations of predictive models in sports, leading to more informed decision-making and enhanced experiences for players, teams, and fans.\n",
      "\n",
      "    Havstad, Josh. \"An Investigation Into Teaching Sports Analytics.\" 2024, https://core.ac.uk/download/613545460.pdf \n",
      "\n",
      "    Arjovuo, Atte. \"Data-driven evaluation of on-field player performance in football using sensor and video technologies.\" 2023, https://core.ac.uk/download/571678312.pdf \n",
      "\n",
      "    Chazan - Pantzalis, Victor. \"Sports Analytics Algorithms for Performance Prediction.\" 2020, https://core.ac.uk/download/328007195.pdf \n",
      "\n",
      "    Krishnamurthy, Vikram, and Rui Luo. \"Who You Play Affects How You Play: Predicting Sports Performance Using Graph Attention Networks With Temporal Convolution.\" 2023, http://arxiv.org/abs/2303.16741 \n",
      "\n",
      "    Carla De Francesco, Luigi De Giovanni, Marco Ferrante, Giovanni Fonseca, Francesco Lisi, Silvia Pontarollo. \"Proceedings of Mathsport international 2017 conference.\" 2017, https://core.ac.uk/download/154329254.pdf \n",
      "\n",
      "    Zhuang, Zhong. \"Sports Data Analysis – Application of Sports Data In Athletics.\" 2021, https://core.ac.uk/download/482008411.pdf \n",
      "\n",
      "    Aydemir, Ayşe Elvan, et al. \"A Dimension Reduction Approach to Player Rankings in European Football.\" 2021, https://doi.org/10.1109/access.2021.3107585 \n",
      "\n",
      "    Estopañán Moreno, Mireia. \"Methodological Quality and Reporting of Regression Models for Ordinal Responses in Sports Field: A Scoping Review.\" 2023, https://diposit.ub.edu/dspace/bitstream/2445/212303/1/TFG_EST_Estopan%cc%83an_2023.pdf \n",
      "\n",
      "    Fontanive, Leonardo Mendes Serra. \"Football analytics: a literature analysis from 2010 to 2020.\" 2021, https://core.ac.uk/download/459213163.pdf \n",
      "\n"
     ]
    }
   ],
   "source": [
    "from functions import *\n",
    "\n",
    "query = input(\"What topic do you want to explore? \")\n",
    "for update in research_query(query):\n",
    "    if update:\n",
    "        print(update, end=\"\")"
   ]
  },
  {
   "cell_type": "code",
   "execution_count": 7,
   "id": "09d820ed",
   "metadata": {},
   "outputs": [],
   "source": [
    "boolean = prompt_query(\"financial analysts machine learning\")\n",
    "paper_df = semantic_scholar_query(boolean, limit=20)"
   ]
  },
  {
   "cell_type": "code",
   "execution_count": 8,
   "id": "bd6d702f",
   "metadata": {},
   "outputs": [
    {
     "name": "stdout",
     "output_type": "stream",
     "text": [
      "0 Machine learning in financial markets: A critical review of algorithmic trading and risk management\n",
      "\n",
      "1 Applications of Machine Learning in Predictive Analysis and Risk Management in Trading\n",
      "\n",
      "2 Algorithmic Trading and Short-term Forecast for Financial Time Series with Machine Learning Models; State of the Art and Perspectives\n",
      "\n",
      "3 Algorithmic trading and machine learning: Advanced techniques for market prediction and strategy development\n",
      "\n",
      "4 Statistical and Machine-Learning Data Mining: Techniques for Better Predictive Modeling and Analysis of Big Data\n",
      "\n",
      "5 Predictive modeling in high-frequency trading using machine learning\n",
      "\n",
      "6 Algorithmic Trading and Quantitative Analysis of Stocks using Data Science: A Study\n",
      "\n",
      "7 Analysis of COVID-19 Using Machine Learning & Data Science Technologies\n",
      "\n",
      "8 A data analytics method based on data science and machine learning for bank risk prediction in credit applications for financial institutions\n",
      "\n",
      "9 Data Cross-Segmentation for Improved Generalization in Reinforcement Learning Based Algorithmic Trading\n",
      "\n",
      "10 Machine Learning-Based Momentum Strategy for High Frequency Trading and Buy/Sell Calls Using Algorithmic Trading\n",
      "\n",
      "11 Economic Theory and Machine Learning Integration in Asset Pricing and Portfolio Optimization: A Bibliometric Analysis and Conceptual Framework\n",
      "\n",
      "12 A Comprehensive Analysis of Machine Learning Models for Algorithmic Trading of Bitcoin\n",
      "\n",
      "13 Evaluation of Traditional Finance Models and Machine Learning Approaches in FOREX Volatility Prediction\n",
      "\n",
      "14 Machine Learning Predictive Modeling of Agricultural Sustainability Indicators\n",
      "\n",
      "15 An Overview of Machine Learning, Deep Learning, and Reinforcement Learning-Based Techniques in Quantitative Finance: Recent Progress and Challenges\n",
      "\n",
      "16 Loan Prediction Analysis Using Innumerable Machine Learning Algorithms\n",
      "\n",
      "17 The Impact of Data Science on Actuarial Science and Predictive Modeling for Insurance Risk Management\n",
      "\n",
      "18 Predicting Credit Card Defaults with Machine Learning\n",
      "\n",
      "19 Forecasting Cryptocurrency Markets: Predictive Modelling Using Statistical and Machine Learning Approaches\n",
      "\n"
     ]
    }
   ],
   "source": [
    "for i in range(len(paper_df)):\n",
    "    title = paper_df['title'].loc[i]\n",
    "    print(i, title, end=\"\\n\\n\")"
   ]
  },
  {
   "cell_type": "markdown",
   "id": "dc04b4c0",
   "metadata": {},
   "source": [
    "We can also grab results without streaming, but this is incredibly slow for the user"
   ]
  },
  {
   "cell_type": "code",
   "execution_count": 1,
   "id": "7578ef38",
   "metadata": {},
   "outputs": [
    {
     "name": "stdout",
     "output_type": "stream",
     "text": [
      "What topic do you want to explore? Sports analyatics\n",
      "\n",
      "Please be patient! This will take a few moments...\n",
      "\n",
      " 1. \u001b[1mLongitudinal Data Analysis for Athlete Development\u001b[0m: Despite the advancements in sports analytics, there is a need for more longitudinal studies that track athletes over multiple seasons or even their entire careers. This gap in research could help in understanding the long-term impact of training regimens, injury prevention strategies, and game tactics on athlete performance and career longevity. Future research could focus on developing robust models that account for the evolution of an athlete's physical and skill attributes over time, which could inform more personalized and effective training programs.\n",
      "\n",
      "2. \u001b[1mIntegration of Psychological and Social Data\u001b[0m: Current sports analytics often focus on physical and performance metrics. However, there is a substantial gap in incorporating psychological and social data to understand their impact on athlete performance and fan engagement. Future research could explore the use of sentiment analysis, social network analysis, and psychological profiling to gain deeper insights into how mental health, team dynamics, and fan engagement interact and influence each other. This could lead to more holistic approaches to athlete development and fan experience enhancement.\n",
      "\n",
      "3. \u001b[1mEthical and Privacy Concerns in Data Collection and Use\u001b[0m: With the increasing use of wearables, biometric sensors, and data analytics, concerns around privacy, consent, and ethical use of data are becoming more pronounced. There is a gap in research dedicated to developing frameworks and guidelines for ethical data collection and use in sports analytics. Future studies could focus on identifying best practices for data privacy, developing consent protocols that respect athlete autonomy, and exploring the ethical implications of predictive analytics in sports.\n",
      "\n",
      "4. \u001b[1mData-Driven Innovations for Inclusive Fan Experience\u001b[0m: While data analytics have significantly enhanced fan engagement, there is a gap in research on how to use these technologies to create more inclusive and accessible fan experiences. Future research could explore the development of predictive models and interactive platforms that cater to diverse fan demographics, including those with disabilities. This could involve exploring adaptive technologies, personalized content delivery, and inclusive engagement strategies that leverage big data to understand and meet the needs of a wider audience.\n",
      "\n",
      "5. \u001b[1mGlobal and Cross-Cultural Applications of Sports Analytics\u001b[0m: The potential for sports analytics to revolutionize sports performance and fan engagement is vast, but there is a gap in understanding how these methodologies can be adapted and applied across different cultural contexts. Future research could focus on developing culturally sensitive analytics models that account for variations in sports practices, fan behaviors, and societal norms across different regions. This could involve comparative studies, cross-cultural collaborations, and the development of global analytics frameworks that respect cultural diversity while leveraging the universal language of sports.\n",
      "\n",
      "Addressing these gaps in future research could further enhance the role of data science and sports analytics in optimizing athlete performance, fostering fan engagement, and ultimately reshaping the sports industry in innovative and inclusive ways.\n",
      "\n",
      "    Arjovuo, Atte. \"Data-driven evaluation of on-field player performance in football using sensor and video technologies.\" 2023, https://core.ac.uk/download/571678312.pdf \n",
      "\n",
      "    Kim, Jinho. \"TRACKING FORMATION CHANGES AND  ITS EFFECTS ON SOCCER USING  POSITION DATA.\" 2023, https://core.ac.uk/download/596784889.pdf \n",
      "\n",
      "    Kim, Jinho. \"TRACKING FORMATION CHANGES AND  ITS EFFECTS ON SOCCER USING  POSITION DATA.\" 2023, https://core.ac.uk/download/619429709.pdf \n",
      "\n",
      "    Chazan - Pantzalis, Victor. \"Sports Analytics Algorithms for Performance Prediction.\" 2020, https://core.ac.uk/download/328007195.pdf \n",
      "\n",
      "    Minčev, Štěpán. \"Analysing data mining methods in sports analytics: a case study in NHL player salary prediction.\" 2021, https://core.ac.uk/download/427722453.pdf \n",
      "\n",
      "    Alexandra Mittelman, et al. \"Artificial intelligence development and dissemination impact on the sports industry labor market.\" 2024, https://doi.org/10.3389/fspor.2024.1363892 \n",
      "\n",
      "    Li, Yisheng. \"When Moneyball Meets the Beautiful Game: A Predictive Analytics Approach to Exploring Key Drivers for Soccer Player Valuation.\" 2021, https://core.ac.uk/download/480267646.pdf \n",
      "\n",
      "    Pinto, Bernardo Baptista Da Costa. \"How can the usage of data analytics help football clubs create a competitive advantage: a research on Liverpool football club.\" 2021, https://core.ac.uk/download/481371797.pdf \n",
      "\n",
      "    Farrow, Lutul D, et al. \"Machine Learning Outperforms Regression Analysis to Predict Next-Season Major League Baseball Player Injuries: Epidemiology and Validation of 13,982 Player-Years From Performance and Injury Profile Trends, 2000-2017.\" 2020, https://doi.org/10.1177/2325967120963046 \n",
      "\n",
      "\n"
     ]
    }
   ],
   "source": [
    "from functions import *\n",
    "\n",
    "query = input(\"What topic do you want to explore? \")\n",
    "print(\"\\nPlease be patient! This will take a few moments...\\n\")\n",
    "print(research_query(query, stream=False)[0])"
   ]
  }
 ],
 "metadata": {
  "kernelspec": {
   "display_name": "Python 3 (ipykernel)",
   "language": "python",
   "name": "python3"
  },
  "language_info": {
   "codemirror_mode": {
    "name": "ipython",
    "version": 3
   },
   "file_extension": ".py",
   "mimetype": "text/x-python",
   "name": "python",
   "nbconvert_exporter": "python",
   "pygments_lexer": "ipython3",
   "version": "3.11.0"
  }
 },
 "nbformat": 4,
 "nbformat_minor": 5
}
