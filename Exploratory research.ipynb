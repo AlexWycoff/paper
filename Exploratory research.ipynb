{
 "cells": [
  {
   "cell_type": "code",
   "execution_count": 10,
   "id": "02e34a63",
   "metadata": {
    "scrolled": false
   },
   "outputs": [
    {
     "ename": "KeyboardInterrupt",
     "evalue": "Interrupted by user",
     "output_type": "error",
     "traceback": [
      "\u001b[0;31m---------------------------------------------------------------------------\u001b[0m",
      "\u001b[0;31mKeyboardInterrupt\u001b[0m                         Traceback (most recent call last)",
      "Cell \u001b[0;32mIn[10], line 3\u001b[0m\n\u001b[1;32m      1\u001b[0m \u001b[38;5;28;01mfrom\u001b[39;00m \u001b[38;5;21;01mfunctions\u001b[39;00m \u001b[38;5;28;01mimport\u001b[39;00m \u001b[38;5;241m*\u001b[39m\n\u001b[0;32m----> 3\u001b[0m query \u001b[38;5;241m=\u001b[39m \u001b[38;5;28minput\u001b[39m(\u001b[38;5;124m\"\u001b[39m\u001b[38;5;124mWhat topic do you want to explore? \u001b[39m\u001b[38;5;124m\"\u001b[39m)\n\u001b[1;32m      4\u001b[0m \u001b[38;5;28;01mfor\u001b[39;00m update \u001b[38;5;129;01min\u001b[39;00m research_query(query):\n\u001b[1;32m      5\u001b[0m     \u001b[38;5;28;01mif\u001b[39;00m update:\n",
      "File \u001b[0;32m/opt/anaconda3/envs/tf/lib/python3.11/site-packages/ipykernel/kernelbase.py:1262\u001b[0m, in \u001b[0;36mKernel.raw_input\u001b[0;34m(self, prompt)\u001b[0m\n\u001b[1;32m   1260\u001b[0m     msg \u001b[38;5;241m=\u001b[39m \u001b[38;5;124m\"\u001b[39m\u001b[38;5;124mraw_input was called, but this frontend does not support input requests.\u001b[39m\u001b[38;5;124m\"\u001b[39m\n\u001b[1;32m   1261\u001b[0m     \u001b[38;5;28;01mraise\u001b[39;00m StdinNotImplementedError(msg)\n\u001b[0;32m-> 1262\u001b[0m \u001b[38;5;28;01mreturn\u001b[39;00m \u001b[38;5;28mself\u001b[39m\u001b[38;5;241m.\u001b[39m_input_request(\n\u001b[1;32m   1263\u001b[0m     \u001b[38;5;28mstr\u001b[39m(prompt),\n\u001b[1;32m   1264\u001b[0m     \u001b[38;5;28mself\u001b[39m\u001b[38;5;241m.\u001b[39m_parent_ident[\u001b[38;5;124m\"\u001b[39m\u001b[38;5;124mshell\u001b[39m\u001b[38;5;124m\"\u001b[39m],\n\u001b[1;32m   1265\u001b[0m     \u001b[38;5;28mself\u001b[39m\u001b[38;5;241m.\u001b[39mget_parent(\u001b[38;5;124m\"\u001b[39m\u001b[38;5;124mshell\u001b[39m\u001b[38;5;124m\"\u001b[39m),\n\u001b[1;32m   1266\u001b[0m     password\u001b[38;5;241m=\u001b[39m\u001b[38;5;28;01mFalse\u001b[39;00m,\n\u001b[1;32m   1267\u001b[0m )\n",
      "File \u001b[0;32m/opt/anaconda3/envs/tf/lib/python3.11/site-packages/ipykernel/kernelbase.py:1305\u001b[0m, in \u001b[0;36mKernel._input_request\u001b[0;34m(self, prompt, ident, parent, password)\u001b[0m\n\u001b[1;32m   1302\u001b[0m \u001b[38;5;28;01mexcept\u001b[39;00m \u001b[38;5;167;01mKeyboardInterrupt\u001b[39;00m:\n\u001b[1;32m   1303\u001b[0m     \u001b[38;5;66;03m# re-raise KeyboardInterrupt, to truncate traceback\u001b[39;00m\n\u001b[1;32m   1304\u001b[0m     msg \u001b[38;5;241m=\u001b[39m \u001b[38;5;124m\"\u001b[39m\u001b[38;5;124mInterrupted by user\u001b[39m\u001b[38;5;124m\"\u001b[39m\n\u001b[0;32m-> 1305\u001b[0m     \u001b[38;5;28;01mraise\u001b[39;00m \u001b[38;5;167;01mKeyboardInterrupt\u001b[39;00m(msg) \u001b[38;5;28;01mfrom\u001b[39;00m \u001b[38;5;28;01mNone\u001b[39;00m\n\u001b[1;32m   1306\u001b[0m \u001b[38;5;28;01mexcept\u001b[39;00m \u001b[38;5;167;01mException\u001b[39;00m:\n\u001b[1;32m   1307\u001b[0m     \u001b[38;5;28mself\u001b[39m\u001b[38;5;241m.\u001b[39mlog\u001b[38;5;241m.\u001b[39mwarning(\u001b[38;5;124m\"\u001b[39m\u001b[38;5;124mInvalid Message:\u001b[39m\u001b[38;5;124m\"\u001b[39m, exc_info\u001b[38;5;241m=\u001b[39m\u001b[38;5;28;01mTrue\u001b[39;00m)\n",
      "\u001b[0;31mKeyboardInterrupt\u001b[0m: Interrupted by user"
     ]
    }
   ],
   "source": [
    "from functions import *\n",
    "\n",
    "query = input(\"What topic do you want to explore? \")\n",
    "for update in research_query(query):\n",
    "    if update:\n",
    "        print(update, end=\"\")"
   ]
  },
  {
   "cell_type": "code",
   "execution_count": 17,
   "id": "09d820ed",
   "metadata": {},
   "outputs": [],
   "source": [
    "boolean = prompt_query(\"stock price prediction with fundamental investing\")\n",
    "paper_df = semantic_scholar_query(boolean, limit=20)"
   ]
  },
  {
   "cell_type": "code",
   "execution_count": 18,
   "id": "bd6d702f",
   "metadata": {},
   "outputs": [
    {
     "name": "stdout",
     "output_type": "stream",
     "text": [
      "0 Prediction of stock price direction using the LASSO-LSTM model combines technical indicators and financial sentiment analysis\n",
      "\n",
      "1 Data mining-based stock price prediction using hybridization of technical and fundamental analysis\n",
      "\n",
      "2 The Impact of Big Data Analytics on Stock Price Prediction in the Bangladesh Stock Market: A Machine Learning Approach\n",
      "\n",
      "3 Combining LSTM and CNN methods and fundamental analysis for stock price trend prediction\n",
      "\n",
      "4 Empirical Analysis for Stock Price Prediction Using NARX Model with Exogenous Technical Indicators\n",
      "\n",
      "5 An optimal deep learning-based LSTM for stock price prediction using twitter sentiment analysis\n",
      "\n",
      "6 Stock Price Prediction Using Sentiment Analysis of News Articles\n",
      "\n",
      "7 Machine Learning for Stock Prediction Based on Fundamental Analysis\n",
      "\n",
      "8 Stock Price Prediction Using Technical Data and Sentiment Score\n",
      "\n",
      "9 Stocks Price Prediction by Fundamental Analysis Using Machine Learning Algorithms\n",
      "\n",
      "10 Comparative Analysis between LSTM and GRU in Stock Price Prediction\n",
      "\n",
      "11 Stock Price Prediction Using News Sentiment Analysis\n",
      "\n",
      "12 Fundamental Analysis, Technical Analysis and Broker Summary Analysis in Investing in Indonesian Stock Market\n",
      "\n",
      "13 Emotion Analysis of News and Social Media Text for Stock Price Prediction using SVM-LSTM-GRU Composite Model\n",
      "\n",
      "14 Stock Price Prediction Based on Optimized LSTM Model\n",
      "\n",
      "15 Correlation analysis of financial indicators and stock price fluctuations based on artificial intelligence system\n",
      "\n",
      "16 Analysis & Stock Price Prediction and Forecasting Using Different LSTM Models\n",
      "\n",
      "17 Stock Price Prediction using Zero-Shot Sentiment Classification\n",
      "\n",
      "18 Stock Price Prediction Using Time Embedding and Attention Mechanism in Transformers\n",
      "\n",
      "19 The Impact of Financial Statement Integration in Machine Learning for Stock Price Prediction\n",
      "\n"
     ]
    }
   ],
   "source": [
    "for i in range(len(paper_df)):\n",
    "    title = paper_df['title'].loc[i]\n",
    "    print(i, title, end=\"\\n\\n\")"
   ]
  },
  {
   "cell_type": "markdown",
   "id": "dc04b4c0",
   "metadata": {},
   "source": [
    "We can also grab results without streaming, but this is incredibly slow for the user"
   ]
  },
  {
   "cell_type": "code",
   "execution_count": 1,
   "id": "7578ef38",
   "metadata": {},
   "outputs": [
    {
     "name": "stdout",
     "output_type": "stream",
     "text": [
      "What topic do you want to explore? Sports analyatics\n",
      "\n",
      "Please be patient! This will take a few moments...\n",
      "\n",
      " 1. \u001b[1mLongitudinal Data Analysis for Athlete Development\u001b[0m: Despite the advancements in sports analytics, there is a need for more longitudinal studies that track athletes over multiple seasons or even their entire careers. This gap in research could help in understanding the long-term impact of training regimens, injury prevention strategies, and game tactics on athlete performance and career longevity. Future research could focus on developing robust models that account for the evolution of an athlete's physical and skill attributes over time, which could inform more personalized and effective training programs.\n",
      "\n",
      "2. \u001b[1mIntegration of Psychological and Social Data\u001b[0m: Current sports analytics often focus on physical and performance metrics. However, there is a substantial gap in incorporating psychological and social data to understand their impact on athlete performance and fan engagement. Future research could explore the use of sentiment analysis, social network analysis, and psychological profiling to gain deeper insights into how mental health, team dynamics, and fan engagement interact and influence each other. This could lead to more holistic approaches to athlete development and fan experience enhancement.\n",
      "\n",
      "3. \u001b[1mEthical and Privacy Concerns in Data Collection and Use\u001b[0m: With the increasing use of wearables, biometric sensors, and data analytics, concerns around privacy, consent, and ethical use of data are becoming more pronounced. There is a gap in research dedicated to developing frameworks and guidelines for ethical data collection and use in sports analytics. Future studies could focus on identifying best practices for data privacy, developing consent protocols that respect athlete autonomy, and exploring the ethical implications of predictive analytics in sports.\n",
      "\n",
      "4. \u001b[1mData-Driven Innovations for Inclusive Fan Experience\u001b[0m: While data analytics have significantly enhanced fan engagement, there is a gap in research on how to use these technologies to create more inclusive and accessible fan experiences. Future research could explore the development of predictive models and interactive platforms that cater to diverse fan demographics, including those with disabilities. This could involve exploring adaptive technologies, personalized content delivery, and inclusive engagement strategies that leverage big data to understand and meet the needs of a wider audience.\n",
      "\n",
      "5. \u001b[1mGlobal and Cross-Cultural Applications of Sports Analytics\u001b[0m: The potential for sports analytics to revolutionize sports performance and fan engagement is vast, but there is a gap in understanding how these methodologies can be adapted and applied across different cultural contexts. Future research could focus on developing culturally sensitive analytics models that account for variations in sports practices, fan behaviors, and societal norms across different regions. This could involve comparative studies, cross-cultural collaborations, and the development of global analytics frameworks that respect cultural diversity while leveraging the universal language of sports.\n",
      "\n",
      "Addressing these gaps in future research could further enhance the role of data science and sports analytics in optimizing athlete performance, fostering fan engagement, and ultimately reshaping the sports industry in innovative and inclusive ways.\n",
      "\n",
      "    Arjovuo, Atte. \"Data-driven evaluation of on-field player performance in football using sensor and video technologies.\" 2023, https://core.ac.uk/download/571678312.pdf \n",
      "\n",
      "    Kim, Jinho. \"TRACKING FORMATION CHANGES AND  ITS EFFECTS ON SOCCER USING  POSITION DATA.\" 2023, https://core.ac.uk/download/596784889.pdf \n",
      "\n",
      "    Kim, Jinho. \"TRACKING FORMATION CHANGES AND  ITS EFFECTS ON SOCCER USING  POSITION DATA.\" 2023, https://core.ac.uk/download/619429709.pdf \n",
      "\n",
      "    Chazan - Pantzalis, Victor. \"Sports Analytics Algorithms for Performance Prediction.\" 2020, https://core.ac.uk/download/328007195.pdf \n",
      "\n",
      "    Minčev, Štěpán. \"Analysing data mining methods in sports analytics: a case study in NHL player salary prediction.\" 2021, https://core.ac.uk/download/427722453.pdf \n",
      "\n",
      "    Alexandra Mittelman, et al. \"Artificial intelligence development and dissemination impact on the sports industry labor market.\" 2024, https://doi.org/10.3389/fspor.2024.1363892 \n",
      "\n",
      "    Li, Yisheng. \"When Moneyball Meets the Beautiful Game: A Predictive Analytics Approach to Exploring Key Drivers for Soccer Player Valuation.\" 2021, https://core.ac.uk/download/480267646.pdf \n",
      "\n",
      "    Pinto, Bernardo Baptista Da Costa. \"How can the usage of data analytics help football clubs create a competitive advantage: a research on Liverpool football club.\" 2021, https://core.ac.uk/download/481371797.pdf \n",
      "\n",
      "    Farrow, Lutul D, et al. \"Machine Learning Outperforms Regression Analysis to Predict Next-Season Major League Baseball Player Injuries: Epidemiology and Validation of 13,982 Player-Years From Performance and Injury Profile Trends, 2000-2017.\" 2020, https://doi.org/10.1177/2325967120963046 \n",
      "\n",
      "\n"
     ]
    }
   ],
   "source": [
    "from functions import *\n",
    "\n",
    "query = input(\"What topic do you want to explore? \")\n",
    "print(\"\\nPlease be patient! This will take a few moments...\\n\")\n",
    "print(research_query(query, stream=False)[0])"
   ]
  }
 ],
 "metadata": {
  "kernelspec": {
   "display_name": "Python 3 (ipykernel)",
   "language": "python",
   "name": "python3"
  },
  "language_info": {
   "codemirror_mode": {
    "name": "ipython",
    "version": 3
   },
   "file_extension": ".py",
   "mimetype": "text/x-python",
   "name": "python",
   "nbconvert_exporter": "python",
   "pygments_lexer": "ipython3",
   "version": "3.11.0"
  }
 },
 "nbformat": 4,
 "nbformat_minor": 5
}
