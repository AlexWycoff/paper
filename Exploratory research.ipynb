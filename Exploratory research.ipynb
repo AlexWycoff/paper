{
 "cells": [
  {
   "cell_type": "markdown",
   "id": "d6e10bb0",
   "metadata": {},
   "source": [
    "Using the functions developed so far, we can use Phi-3.5 to get insights into limitations of current research."
   ]
  },
  {
   "cell_type": "code",
   "execution_count": 3,
   "id": "02e34a63",
   "metadata": {
    "scrolled": false
   },
   "outputs": [
    {
     "name": "stdout",
     "output_type": "stream",
     "text": [
      "What topic do you want to explore? financial analysts machine learning\n",
      "Boolean search: (financial+analysts)|(machine+learning)|(data+analysis)|(predictive+modeling)|(financial+markets)|(artificial+intelligence)|(big+data)|(algorithmic+trading)\n",
      " 1. \u001b[1mIntegration of Interdisciplinary Approaches\u001b[0m: While the studies have explored various applications of AI and machine learning in finance, there is a gap in integrating these technologies with interdisciplinary approaches from other fields such as behavioral economics, sociology, and psychology. This could provide a more holistic understanding of market dynamics, investor behavior, and the impact of regulatory policies.\n",
      "\n",
      "2. \u001b[1mLongitudinal Impact Assessment\u001b[0m: Most research focuses on short-term effects and immediate outcomes. There is a need for longitudinal studies that assess the long-term impact of AI and machine learning on financial markets, including sustainability, systemic risks, and the evolution of market structures over time. Such studies could offer insights into how these technologies shape financial markets in the context of economic cycles, technological advancements, and global events.\n",
      "\n",
      "3. \u001b[1mEthical and Regulatory Frameworks\u001b[0m: The studies often highlight the technical capabilities and immediate benefits of AI and machine learning without delving deeply into the ethical implications and regulatory challenges. Future research should focus on developing comprehensive frameworks that address issues such as algorithmic bias, transparency, accountability, and privacy. This includes exploring the role of regulation in guiding responsible AI use in finance and ensuring that these technologies do not exacerbate inequality or systemic risks.\n",
      "\n",
      "4. \u001b[1mHeterogeneity of Financial Institutions\u001b[0m: The majority of research is conducted on large financial institutions, which may not accurately reflect the experiences of smaller, regional, or emerging markets. There is a need for more research on the diverse impacts of AI and machine learning across different types of financial institutions, considering the varying regulatory environments, market structures, and clienteles they serve.\n",
      "\n",
      "5. \u001b[1mAI Model Interpretability and Explainability\u001b[0m: Many AI models, particularly deep learning, are often criticized for their \"black box\" nature, making it difficult to understand how decisions are made. Future research should prioritize the development of interpretable and explainable AI models that can provide insights into their decision-making processes. This is crucial not only for gaining stakeholder trust but also for regulatory compliance and for identifying and mitigating risks.\n",
      "\n",
      "6. \u001b[1mCross-Market Dynamics and Comparative Analysis\u001b[0m: Most studies focus on specific markets or asset classes, limiting the generalizability of their findings. There is a need for comparative and cross-market studies that assess how AI and machine learning models perform across different financial ecosystems. This could include comparative analyses of AI models in developed versus emerging markets, or in different types of financial instruments (e.g., equities, bonds, commodities, cryptocurrencies). Such research could offer valuable insights into the universal applicability of AI and machine learning techniques and their adaptability to diverse market conditions.\n",
      "\n",
      "7. \u001b[1mHuman-AI Collaboration\u001b[0m: While the studies underscore the potential of AI and machine learning, there is a gap in exploring how these technologies can be effectively integrated with human expertise. Future research should investigate models of human-AI collaboration that leverage the strengths of both human intuition and artificial intelligence, particularly in areas like strategic decision-making, risk management, and investment strategies. This could involve developing training programs, decision-support systems, and collaborative interfaces that facilitate effective human-AI teamwork in financial institutions.\n",
      "\n",
      "8. \u001b[1mEnvironmental and Social Impact of Financial Technologies\u001b[0m: The studies primarily focus on the technical and financial aspects of AI and machine learning in finance. There is a need for research that explores the broader environmental and social impacts of these technologies, including their role in promoting sustainable finance, reducing carbon footprints, and enhancing financial inclusion. This could involve assessing the impact of AI-driven investment strategies on green finance, the role of AI in identifying and mitigating financial risks associated with climate change, and the potential of AI in promoting financial inclusion and empowering underserved communities.\n",
      "\n",
      "9. \u001b[1mAdvanced AI Models and Techniques\u001b[0m: While several AI and machine learning models have been explored, there is a gap in the exploration of advanced models and techniques, such as reinforcement learning, generative adversarial networks, and quantum machine learning. Future research could explore these advanced models and techniques, assessing their potential to further enhance predictive accuracy, operational efficiency, and risk management in financial markets.\n",
      "\n",
      "10. \u001b[1mCross-Cultural and Global Comparisons\u001b[0m: The studies are largely based on research conducted in specific regions, mainly Western countries. There is a need for more comparative and cross-cultural studies that explore the applicability of AI and machine learning models in different cultural and regulatory contexts. This could offer valuable insights into the cultural and regional nuances of financial markets and the impact of AI and machine learning on these markets. This could also help in developing more inclusive and adaptable AI models that can cater to diverse market needs.\n",
      "\n",
      "These identified gaps present opportunities for future research that could further advance our understanding of the role and impact of AI and machine learning in finance. By addressing these gaps, researchers can contribute to the development of more robust, ethical, and inclusive financial technologies that can enhance financial markets, promote financial stability, and foster sustainable economic development.\n",
      "\n",
      "    Hasan, Md.M., et al. \"Current landscape and influence of big data on finance.\" 2020, https://core.ac.uk/download/491335777.pdf \n",
      "\n",
      "    EL KABBOURI, Mounime, et al. \"Artificial Intelligence & Machine Learning in Finance: A literature review.\" 2022, https://doi.org/10.5281/zenodo.7454232 \n",
      "\n",
      "    Chai, Sheng, et al. \"Data Science in Finance: Challenges and Opportunities.\" 2024, https://doi.org/10.3390/ai5010004 \n",
      "\n",
      "    Bartram, S. M., et al. \"Artificial Intelligence in Asset Management.\" 2020, https://doi.org/10.2139/ssrn.3692805 \n",
      "\n",
      "    Coglianese, Cary, and David Lehr. \"Regulating by Robot: Administrative Decision Making in the Machine-Learning Era.\" 2017, https://core.ac.uk/download/151696128.pdf \n",
      "\n",
      "    Snehlata Barade , Bhagyashree Pathak,. \"Technical Analysis-Based Data Mining Strategies for Stock Market Trend Observation.\" 2024, https://core.ac.uk/download/603898967.pdf \n",
      "\n",
      "    Firoozye, N, et al. \"Algorithms in future capital markets: A survey on AI, ML and associated algorithms in capital markets.\" 2020, https://core.ac.uk/download/487602273.pdf \n",
      "\n",
      "    Coglianese, Cary, and David Lehr. \"Regulating by Robot: Administrative Decision Making in the Machine-Learning Era.\" 2017, https://core.ac.uk/download/151696128.pdf \n",
      "\n"
     ]
    }
   ],
   "source": [
    "from functions import *\n",
    "\n",
    "query = input(\"What topic do you want to explore? \")\n",
    "for update in research_query(query, limit=100):\n",
    "    if update:\n",
    "        print(update, end=\"\")"
   ]
  },
  {
   "cell_type": "markdown",
   "id": "8ec577ff",
   "metadata": {},
   "source": [
    "We can also look at query results directly to find even more papers (although they may not be open source)."
   ]
  },
  {
   "cell_type": "code",
   "execution_count": 8,
   "id": "bd6d702f",
   "metadata": {},
   "outputs": [
    {
     "name": "stdout",
     "output_type": "stream",
     "text": [
      "0 Machine learning in financial markets: A critical review of algorithmic trading and risk management\n",
      "\n",
      "1 Applications of Machine Learning in Predictive Analysis and Risk Management in Trading\n",
      "\n",
      "2 Algorithmic Trading and Short-term Forecast for Financial Time Series with Machine Learning Models; State of the Art and Perspectives\n",
      "\n",
      "3 Algorithmic trading and machine learning: Advanced techniques for market prediction and strategy development\n",
      "\n",
      "4 Statistical and Machine-Learning Data Mining: Techniques for Better Predictive Modeling and Analysis of Big Data\n",
      "\n",
      "5 Predictive modeling in high-frequency trading using machine learning\n",
      "\n",
      "6 Algorithmic Trading and Quantitative Analysis of Stocks using Data Science: A Study\n",
      "\n",
      "7 Analysis of COVID-19 Using Machine Learning & Data Science Technologies\n",
      "\n",
      "8 A data analytics method based on data science and machine learning for bank risk prediction in credit applications for financial institutions\n",
      "\n",
      "9 Data Cross-Segmentation for Improved Generalization in Reinforcement Learning Based Algorithmic Trading\n",
      "\n",
      "10 Machine Learning-Based Momentum Strategy for High Frequency Trading and Buy/Sell Calls Using Algorithmic Trading\n",
      "\n",
      "11 Economic Theory and Machine Learning Integration in Asset Pricing and Portfolio Optimization: A Bibliometric Analysis and Conceptual Framework\n",
      "\n",
      "12 A Comprehensive Analysis of Machine Learning Models for Algorithmic Trading of Bitcoin\n",
      "\n",
      "13 Evaluation of Traditional Finance Models and Machine Learning Approaches in FOREX Volatility Prediction\n",
      "\n",
      "14 Machine Learning Predictive Modeling of Agricultural Sustainability Indicators\n",
      "\n",
      "15 An Overview of Machine Learning, Deep Learning, and Reinforcement Learning-Based Techniques in Quantitative Finance: Recent Progress and Challenges\n",
      "\n",
      "16 Loan Prediction Analysis Using Innumerable Machine Learning Algorithms\n",
      "\n",
      "17 The Impact of Data Science on Actuarial Science and Predictive Modeling for Insurance Risk Management\n",
      "\n",
      "18 Predicting Credit Card Defaults with Machine Learning\n",
      "\n",
      "19 Forecasting Cryptocurrency Markets: Predictive Modelling Using Statistical and Machine Learning Approaches\n",
      "\n"
     ]
    }
   ],
   "source": [
    "boolean = prompt_query(\"financial analysts machine learning\")\n",
    "paper_df = semantic_scholar_query(boolean, limit=20)\n",
    "\n",
    "for i in range(len(paper_df)):\n",
    "    title = paper_df['title'].loc[i]\n",
    "    print(i, title, end=\"\\n\\n\")"
   ]
  }
 ],
 "metadata": {
  "kernelspec": {
   "display_name": "Python 3 (ipykernel)",
   "language": "python",
   "name": "python3"
  },
  "language_info": {
   "codemirror_mode": {
    "name": "ipython",
    "version": 3
   },
   "file_extension": ".py",
   "mimetype": "text/x-python",
   "name": "python",
   "nbconvert_exporter": "python",
   "pygments_lexer": "ipython3",
   "version": "3.11.0"
  }
 },
 "nbformat": 4,
 "nbformat_minor": 5
}
